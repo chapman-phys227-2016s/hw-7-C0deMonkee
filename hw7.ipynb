{
 "cells": [
  {
   "cell_type": "code",
   "execution_count": 1,
   "metadata": {
    "collapsed": false
   },
   "outputs": [],
   "source": [
    "import Lagrange_poly3 as p1\n",
    "import Lagrange_poly4 as p2\n",
    "import Polynomial_vec as p3\n",
    "import Polynomial_dict as p4\n",
    "import numpy as np"
   ]
  },
  {
   "cell_type": "markdown",
   "metadata": {},
   "source": [
    "# Problem 1, A return to Lagrange Polynomials"
   ]
  },
  {
   "cell_type": "code",
   "execution_count": 2,
   "metadata": {
    "collapsed": false
   },
   "outputs": [],
   "source": [
    "def sin(x):\n",
    "    return np.sin(x)\n",
    "L = p1.Lagrange(sin, 1000, 0, 2 * np.pi, [-3,3,0,1])"
   ]
  },
  {
   "cell_type": "markdown",
   "metadata": {},
   "source": [
    "### As you can see, the object is instantiated, so let's graph stuff"
   ]
  },
  {
   "cell_type": "code",
   "execution_count": 3,
   "metadata": {
    "collapsed": false
   },
   "outputs": [
    {
     "data": {
      "image/png": "[encoded data removed]",
      "text/plain": [
       "<matplotlib.figure.Figure at 0x7f907c235e50>"
      ]
     },
     "metadata": {},
     "output_type": "display_data"
    }
   ],
   "source": [
    "L.graph(sin, 20, -2, 2, [-3,3,0,1])"
   ]
  },
  {
   "cell_type": "markdown",
   "metadata": {},
   "source": [
    "### Which is a portion of the sin graph, well done!"
   ]
  },
  {
   "cell_type": "markdown",
   "metadata": {},
   "source": [
    "# Problem 2, Langrange, part 2\n",
    "## Unfortunately, I cannot find this problem in edition 2 of the book, so here's a picture of a surprised cat in ascii\n",
    " ^(0.0)^"
   ]
  },
  {
   "cell_type": "markdown",
   "metadata": {},
   "source": [
    "# Problem 3, Polynomials and Vectorization"
   ]
  },
  {
   "cell_type": "code",
   "execution_count": 4,
   "metadata": {
    "collapsed": false
   },
   "outputs": [
    {
     "name": "stdout",
     "output_type": "stream",
     "text": [
      "The slowest run took 10.33 times longer than the fastest. This could mean that an intermediate result is being cached \n",
      "100000 loops, best of 3: 2.22 µs per loop\n",
      "The slowest run took 4.01 times longer than the fastest. This could mean that an intermediate result is being cached \n",
      "100000 loops, best of 3: 2.2 µs per loop\n",
      "The slowest run took 5.61 times longer than the fastest. This could mean that an intermediate result is being cached \n",
      "100000 loops, best of 3: 8.03 µs per loop\n"
     ]
    }
   ],
   "source": [
    "%timeit poly1 = p3.Polynomial([1,13,2,2.5,7,8])\n",
    "%timeit poly2 = p3.Polynomial([1,13,2,2.5,7,8])\n",
    "poly1 = p3.Polynomial([1,13,2,2.5,7,8])\n",
    "poly2 = p3.Polynomial([1,13,2,2.5,7,8])\n",
    "\n",
    "%timeit result = poly1.__add__(poly2)"
   ]
  },
  {
   "cell_type": "markdown",
   "metadata": {},
   "source": [
    "# Problem 4, Polynomials and Dictionaries"
   ]
  },
  {
   "cell_type": "code",
   "execution_count": 5,
   "metadata": {
    "collapsed": false
   },
   "outputs": [
    {
     "name": "stdout",
     "output_type": "stream",
     "text": [
      "The slowest run took 4.38 times longer than the fastest. This could mean that an intermediate result is being cached \n",
      "1000000 loops, best of 3: 707 ns per loop\n",
      "1000000 loops, best of 3: 715 ns per loop\n",
      "1000000 loops, best of 3: 1.72 µs per loop\n"
     ]
    }
   ],
   "source": [
    "%timeit poly1 = p4.Polynomial({0:2, 1:3, 2:4, 3:5, 4:6, 5:7, 6:8, 7:9})\n",
    "%timeit poly2 = p4.Polynomial({0:2, 1:3, 2:4, 3:5, 4:6, 5:7, 6:8, 7:9})\n",
    "poly1 = p4.Polynomial({0:2, 1:3, 2:4, 3:5, 4:6, 5:7, 6:8, 7:9})\n",
    "poly2 = p4.Polynomial({0:2, 1:3, 2:4, 3:5, 4:6, 5:7, 6:8, 7:9})\n",
    "\n",
    "%timeit result = poly1.__add__(poly2)"
   ]
  },
  {
   "cell_type": "markdown",
   "metadata": {},
   "source": [
    "## Commentary on Problems 3 and 4\n",
    "As can be seen above, the dictionary implementation allows a much faster execution of the code and the vectorized version. This is perhaps because of the innate efficiency that is brought in with a dictionary. Both of the above executions will far outperform the implementation with only lists."
   ]
  },
  {
   "cell_type": "code",
   "execution_count": null,
   "metadata": {
    "collapsed": true
   },
   "outputs": [],
   "source": []
  }
 ],
 "metadata": {
  "kernelspec": {
   "display_name": "Python 2 (SageMath)",
   "language": "python",
   "name": "python2"
  },
  "language_info": {
   "codemirror_mode": {
    "name": "ipython",
    "version": 2
   },
   "file_extension": ".py",
   "mimetype": "text/x-python",
   "name": "python",
   "nbconvert_exporter": "python",
   "pygments_lexer": "ipython2",
   "version": "2.7.10"
  }
 },
 "nbformat": 4,
 "nbformat_minor": 0
}
